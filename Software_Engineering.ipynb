{
  "nbformat": 4,
  "nbformat_minor": 0,
  "metadata": {
    "colab": {
      "name": "Software Engineering.ipynb",
      "provenance": [],
      "collapsed_sections": []
    },
    "kernelspec": {
      "name": "python3",
      "display_name": "Python 3"
    },
    "language_info": {
      "name": "python"
    }
  },
  "cells": [
    {
      "cell_type": "markdown",
      "metadata": {
        "id": "TiIlziYvoAxb"
      },
      "source": [
        "##Assignment 1 :\n"
      ]
    },
    {
      "cell_type": "code",
      "metadata": {
        "colab": {
          "base_uri": "https://localhost:8080/"
        },
        "id": "1C3KRWU1l9wK",
        "outputId": "23ab4779-3dba-479d-8598-83e27e3a0da5"
      },
      "source": [
        "num = 3\n",
        "print(\"angkanya :\"+str(num))"
      ],
      "execution_count": null,
      "outputs": [
        {
          "output_type": "stream",
          "name": "stdout",
          "text": [
            "angkanya :3\n"
          ]
        }
      ]
    }
  ]
}