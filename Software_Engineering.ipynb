{
  "nbformat": 4,
  "nbformat_minor": 0,
  "metadata": {
    "colab": {
      "name": "Software Engineering.ipynb",
      "provenance": [],
      "collapsed_sections": []
    },
    "kernelspec": {
      "name": "python3",
      "display_name": "Python 3"
    },
    "language_info": {
      "name": "python"
    }
  },
  "cells": [
    {
      "cell_type": "markdown",
      "metadata": {
        "id": "TiIlziYvoAxb"
      },
      "source": [
        "##Assignment 1 :\n"
      ]
    },
    {
      "cell_type": "code",
      "metadata": {
        "colab": {
          "base_uri": "https://localhost:8080/"
        },
        "id": "1C3KRWU1l9wK",
        "outputId": "198909d4-c586-4dc1-d0ac-e6ee1959b252"
      },
      "source": [
        "num = 3\n",
        "print(\"selected num : \"+str(num))"
      ],
      "execution_count": 4,
      "outputs": [
        {
          "output_type": "stream",
          "name": "stdout",
          "text": [
            "selected num : 3\n"
          ]
        }
      ]
    }
  ]
}