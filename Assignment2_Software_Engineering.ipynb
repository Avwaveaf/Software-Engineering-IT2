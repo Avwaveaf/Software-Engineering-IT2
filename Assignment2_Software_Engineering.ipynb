{
  "nbformat": 4,
  "nbformat_minor": 0,
  "metadata": {
    "colab": {
      "name": "Assignment2_Software Engineering.ipynb",
      "provenance": []
    },
    "kernelspec": {
      "name": "python3",
      "display_name": "Python 3"
    },
    "language_info": {
      "name": "python"
    }
  },
  "cells": [
    {
      "cell_type": "markdown",
      "metadata": {
        "id": "lQ0c6x5auwCQ"
      },
      "source": [
        "**Assignment 2 Software Engineering IT-2(7:00PM)**\n",
        "1.   Muhamad Afif Fadillah\n",
        "2.   Syahla Arfian\n"
      ]
    },
    {
      "cell_type": "markdown",
      "metadata": {
        "id": "Adlj3ZXeujlX"
      },
      "source": [
        "##Asigning Empty list"
      ]
    },
    {
      "cell_type": "code",
      "metadata": {
        "id": "FUZy0W4LrfMI"
      },
      "source": [
        "num_container = []\n",
        "largest_num = 0;"
      ],
      "execution_count": 14,
      "outputs": []
    },
    {
      "cell_type": "markdown",
      "metadata": {
        "id": "CLpr_HSdrHdM"
      },
      "source": [
        "##Taking the input from the user\n"
      ]
    },
    {
      "cell_type": "code",
      "metadata": {
        "colab": {
          "base_uri": "https://localhost:8080/"
        },
        "id": "vcyQcZFNqymj",
        "outputId": "c125b936-6167-44c9-d6dc-b28b99a76a98"
      },
      "source": [
        "user = int(input(\"enter input limit : \"))"
      ],
      "execution_count": 16,
      "outputs": [
        {
          "name": "stdout",
          "output_type": "stream",
          "text": [
            "enter input limit : 10\n"
          ]
        }
      ]
    },
    {
      "cell_type": "markdown",
      "metadata": {
        "id": "rQr8XrdcrLZW"
      },
      "source": [
        "##Itteration"
      ]
    },
    {
      "cell_type": "code",
      "metadata": {
        "colab": {
          "base_uri": "https://localhost:8080/"
        },
        "id": "9ajVp-Ayq5Gf",
        "outputId": "9e2bb63c-563d-4695-9b4f-b3027fb9c9a5"
      },
      "source": [
        "for i in range(user):\n",
        "  inputNum=int(input(\"please input number {} \".format(i+1)))\n",
        "  num_container.append(inputNum)\n",
        "\n",
        "else:\n",
        "  num_container.sort(reverse=True)\n",
        "  largest_num=num_container[0]\n",
        "  print(\"Current largest number in the list is = {}\".format(largest_num))"
      ],
      "execution_count": 18,
      "outputs": [
        {
          "output_type": "stream",
          "name": "stdout",
          "text": [
            "please input number 1 33\n",
            "please input number 2 33\n",
            "please input number 3 23\n",
            "please input number 4 57\n",
            "please input number 5 83\n",
            "please input number 6 56\n",
            "please input number 7 2\n",
            "please input number 8 1\n",
            "please input number 9 54\n",
            "please input number 10 99\n",
            "Current largest number in the list is = 99\n"
          ]
        }
      ]
    }
  ]
}